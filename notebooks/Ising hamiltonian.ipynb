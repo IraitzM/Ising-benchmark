{
 "cells": [
  {
   "cell_type": "code",
   "execution_count": 2,
   "metadata": {},
   "outputs": [],
   "source": [
    "from ising_benchmark.utils import ising_generator\n",
    "\n",
    "N = 100\n",
    "\n",
    "# Sample from normal distribution\n",
    "h, J = ising_generator(N)"
   ]
  },
  {
   "cell_type": "markdown",
   "metadata": {},
   "source": [
    "Assuming the following optimization problem\n",
    "\n",
    "$$\n",
    "\n",
    "\\min \\sum_i h_i \\sigma_i + \\sum_i \\sum_{i \\ne j} J_{ij}\\sigma_i \\sigma_j\n",
    "\n",
    "$$\n",
    "\n",
    "we would like to find its minimum eigenvalue and associated eignevector."
   ]
  },
  {
   "cell_type": "code",
   "execution_count": 3,
   "metadata": {},
   "outputs": [],
   "source": [
    "import neal\n",
    "import dimod\n",
    "from ising_benchmark.utils import ising_to_bqm, bqm_spin_array\n",
    "\n",
    "bqm = ising_to_bqm(h, J)\n",
    "\n",
    "if N < 20:\n",
    "    sampleset = dimod.ExactSolver().sample(bqm)\n",
    "\n",
    "    exact_e = bqm.energy(sampleset.first.sample)\n",
    "    exact_solution = bqm_spin_array(sampleset.first.sample)\n",
    "\n",
    "    print(f\"Obtained energy: {exact_e}\")"
   ]
  },
  {
   "cell_type": "code",
   "execution_count": 4,
   "metadata": {},
   "outputs": [
    {
     "name": "stdout",
     "output_type": "stream",
     "text": [
      "Obtained energy (DWave): -1424.7445785525513\n"
     ]
    }
   ],
   "source": [
    "import os\n",
    "from dotenv import load_dotenv\n",
    "from ising_benchmark.utils import submit_dwave\n",
    "\n",
    "load_dotenv()\n",
    "\n",
    "sampleset = submit_dwave(bqm, os.environ[\"TOKEN\"])\n",
    "\n",
    "dwave_e = bqm.energy(sampleset.first.sample)\n",
    "dwave_solution = bqm_spin_array(sampleset.first.sample)\n",
    "\n",
    "print(f\"Obtained energy (DWave): {dwave_e}\")"
   ]
  },
  {
   "cell_type": "code",
   "execution_count": 5,
   "metadata": {},
   "outputs": [
    {
     "name": "stdout",
     "output_type": "stream",
     "text": [
      "Obtained energy (SA): -1424.7445785525513\n"
     ]
    }
   ],
   "source": [
    "sampler = neal.SimulatedAnnealingSampler()\n",
    "# Run with default parameters\n",
    "sampleset = sampler.sample(bqm)\n",
    "\n",
    "sa_e = bqm.energy(sampleset.first.sample)\n",
    "sa_solution = bqm_spin_array(sampleset.first.sample)\n",
    "\n",
    "print(f\"Obtained energy (SA): {sa_e}\")"
   ]
  },
  {
   "cell_type": "code",
   "execution_count": 6,
   "metadata": {},
   "outputs": [
    {
     "name": "stdout",
     "output_type": "stream",
     "text": [
      "Obtained energy (SA): -1361.0558707995006\n"
     ]
    }
   ],
   "source": [
    "# Run with specified parameters\n",
    "sampleset = sampler.sample(bqm, seed=1234, beta_range=[0.1, 4.2], num_sweeps=20, beta_schedule_type='geometric')\n",
    "\n",
    "geom_e = bqm.energy(sampleset.first.sample)\n",
    "geom_solution = bqm_spin_array(sampleset.first.sample)\n",
    "\n",
    "print(f\"Obtained energy (SA): {geom_e}\")"
   ]
  },
  {
   "cell_type": "code",
   "execution_count": 7,
   "metadata": {},
   "outputs": [
    {
     "name": "stderr",
     "output_type": "stream",
     "text": [
      "Iterations:  48%|████▊     | 4850/10000 [00:07<00:08, 630.44it/s]\n",
      "Bifurcated agents: 100%|██████████| 128/128 [00:07<00:00, 16.65it/s]"
     ]
    },
    {
     "name": "stdout",
     "output_type": "stream",
     "text": [
      "Obtained energy (SB): -1424.74462890625\n"
     ]
    },
    {
     "name": "stderr",
     "output_type": "stream",
     "text": [
      "\n"
     ]
    }
   ],
   "source": [
    "import torch\n",
    "import simulated_bifurcation as sb\n",
    "\n",
    "h_torch = torch.tensor(h, dtype=torch.float32)\n",
    "J_torch = torch.tensor(J, dtype=torch.float32)\n",
    "\n",
    "# Binary minimization\n",
    "sb_solution, sb_e = sb.minimize(J_torch, h_torch, input_type='spin')\n",
    "\n",
    "print(f\"Obtained energy (SB): {sb_e}\")"
   ]
  },
  {
   "cell_type": "code",
   "execution_count": 11,
   "metadata": {},
   "outputs": [
    {
     "data": {
      "text/plain": [
       "False"
      ]
     },
     "execution_count": 11,
     "metadata": {},
     "output_type": "execute_result"
    }
   ],
   "source": [
    "dwave_solution == sb_solution"
   ]
  }
 ],
 "metadata": {
  "kernelspec": {
   "display_name": ".venv",
   "language": "python",
   "name": "python3"
  },
  "language_info": {
   "codemirror_mode": {
    "name": "ipython",
    "version": 3
   },
   "file_extension": ".py",
   "mimetype": "text/x-python",
   "name": "python",
   "nbconvert_exporter": "python",
   "pygments_lexer": "ipython3",
   "version": "3.11.5"
  },
  "orig_nbformat": 4
 },
 "nbformat": 4,
 "nbformat_minor": 2
}
